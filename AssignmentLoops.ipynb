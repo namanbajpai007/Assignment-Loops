{
 "cells": [
  {
   "cell_type": "code",
   "execution_count": 1,
   "id": "3cd5ae3c",
   "metadata": {},
   "outputs": [
    {
     "name": "stdout",
     "output_type": "stream",
     "text": [
      "1\n",
      "2\n",
      "3\n",
      "4\n",
      "5\n"
     ]
    }
   ],
   "source": [
    "# Print numbers 1 to 5 using a while loop\n",
    "num = 1\n",
    "while num <= 5:\n",
    "    print(num)\n",
    "    num += 1  # Increment the number for the next iteration"
   ]
  },
  {
   "cell_type": "code",
   "execution_count": 2,
   "id": "25062e1a",
   "metadata": {},
   "outputs": [
    {
     "name": "stdout",
     "output_type": "stream",
     "text": [
      "55\n"
     ]
    }
   ],
   "source": [
    "# Calculate the sum of numbers from 1 to 10 using a while loop\n",
    "num = 1    \n",
    "total_sum = 0\n",
    "while num<=10:\n",
    "    total_sum += num\n",
    "    num += 1\n",
    "print(total_sum)"
   ]
  },
  {
   "cell_type": "code",
   "execution_count": 10,
   "id": "4d1af862",
   "metadata": {},
   "outputs": [
    {
     "name": "stdout",
     "output_type": "stream",
     "text": [
      "120\n"
     ]
    }
   ],
   "source": [
    "# Calculate the factorial of a number using for loop \n",
    "num = 5\n",
    "fact = 1\n",
    "for num in range(1,num+1):\n",
    "    fact *= num\n",
    "print(fact)"
   ]
  },
  {
   "cell_type": "code",
   "execution_count": 14,
   "id": "3bb18123",
   "metadata": {},
   "outputs": [
    {
     "name": "stdout",
     "output_type": "stream",
     "text": [
      "5\n"
     ]
    }
   ],
   "source": [
    "# Count the number of vowels in a string using a for loop \n",
    "string = \"Aeroplane\"\n",
    "vowels = {'a','e','i','o','u','A','E','I','O','U'}\n",
    "vowels_count = 0\n",
    "for char in string:\n",
    "    if char in vowels:\n",
    "        vowels_count += 1 \n",
    "print(vowels_count)"
   ]
  },
  {
   "cell_type": "code",
   "execution_count": 20,
   "id": "3b6e1ce5",
   "metadata": {},
   "outputs": [
    {
     "name": "stdout",
     "output_type": "stream",
     "text": [
      "*\n",
      "**\n",
      "***\n",
      "****\n",
      "*****\n"
     ]
    }
   ],
   "source": [
    "# Print a pattern using nested loops \n",
    "rows = 5\n",
    "for i in range(rows):\n",
    "    for j in range(i+1):\n",
    "        print('*', end='')\n",
    "    print()"
   ]
  },
  {
   "cell_type": "code",
   "execution_count": 21,
   "id": "3d266f06",
   "metadata": {},
   "outputs": [
    {
     "name": "stdout",
     "output_type": "stream",
     "text": [
      "1\t2\t3\t4\t5\t6\t7\t8\t9\t10\t\n",
      "2\t4\t6\t8\t10\t12\t14\t16\t18\t20\t\n",
      "3\t6\t9\t12\t15\t18\t21\t24\t27\t30\t\n",
      "4\t8\t12\t16\t20\t24\t28\t32\t36\t40\t\n",
      "5\t10\t15\t20\t25\t30\t35\t40\t45\t50\t\n",
      "6\t12\t18\t24\t30\t36\t42\t48\t54\t60\t\n",
      "7\t14\t21\t28\t35\t42\t49\t56\t63\t70\t\n",
      "8\t16\t24\t32\t40\t48\t56\t64\t72\t80\t\n",
      "9\t18\t27\t36\t45\t54\t63\t72\t81\t90\t\n",
      "10\t20\t30\t40\t50\t60\t70\t80\t90\t100\t\n"
     ]
    }
   ],
   "source": [
    "# Generate a multiplication table using nested loops \n",
    "\n",
    "# Define the size of the multiplication table\n",
    "table_size = 10\n",
    "\n",
    "# iterate over rows\n",
    "for i in range(1, table_size + 1):\n",
    "    #iterate over columns\n",
    "    for j in range(1, table_size + 1):\n",
    "        # Calculate and print the product of current row and column\n",
    "        print(i * j, end=\"\\t\")\n",
    "    # Move to the next line after printing each row\n",
    "    print()"
   ]
  }
 ],
 "metadata": {
  "kernelspec": {
   "display_name": "Python 3 (ipykernel)",
   "language": "python",
   "name": "python3"
  },
  "language_info": {
   "codemirror_mode": {
    "name": "ipython",
    "version": 3
   },
   "file_extension": ".py",
   "mimetype": "text/x-python",
   "name": "python",
   "nbconvert_exporter": "python",
   "pygments_lexer": "ipython3",
   "version": "3.11.5"
  }
 },
 "nbformat": 4,
 "nbformat_minor": 5
}
